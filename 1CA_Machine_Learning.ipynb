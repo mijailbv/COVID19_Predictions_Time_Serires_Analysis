{
 "cells": [
  {
   "cell_type": "markdown",
   "id": "7a828973",
   "metadata": {},
   "source": [
    "## 1CA Machine Learning"
   ]
  },
  {
   "cell_type": "markdown",
   "id": "618bbe19",
   "metadata": {},
   "source": [
    "### Student Name: \n",
    "### Emily Cristina Herbas Luizaga (2023100)\n",
    "### Mijail Fausto Blanco Vargas (2023012)"
   ]
  },
  {
   "cell_type": "markdown",
   "id": "a4d2ce32",
   "metadata": {},
   "source": [
    "### PROBLEM STATEMENT"
   ]
  },
  {
   "cell_type": "markdown",
   "id": "cb262679",
   "metadata": {},
   "source": [
    "#### In the following CA project, we want to know the prediction of positive Covid cases registered in the dataset in Europe (\"WHO Region\"). In this dataset, we have different continents, countries and variables about Covid cases that will help us determine the predictions we want to know. The dataset was taken from kaggle analyzing different countries collecting data from the beginning of January 2020 until July 2020. To knoe the prediction of positive Covid cases is primordial since we need to know an stimate of positive covid cases for knowing how is the pandemy spreding around the world and this information could be useful for the countries to know if they need more medical attention, to have hospitals available or possible treatments for the people infected."
   ]
  },
  {
   "cell_type": "code",
   "execution_count": 1,
   "id": "2146d6f1",
   "metadata": {},
   "outputs": [],
   "source": [
    "# Importing libraries for the analysis\n",
    "import pandas as pd\n",
    "import numpy as np\n",
    "import matplotlib.pyplot as plt\n",
    "import seaborn as sns\n",
    "from sklearn.decomposition import PCA\n",
    "%matplotlib inline\n",
    "from statsmodels.graphics.tsaplots import plot_acf, plot_pacf \n",
    "from statsmodels.tsa.arima_model import ARIMA\n",
    "import statsmodels.api as sm\n",
    "import statsmodels.tsa.api as smtsa\n",
    "from statsmodels.tsa.stattools import adfuller\n",
    "import warnings\n",
    "warnings.filterwarnings('ignore')"
   ]
  },
  {
   "cell_type": "code",
   "execution_count": 2,
   "id": "e77a658a",
   "metadata": {},
   "outputs": [],
   "source": [
    "# Loading datasets\n",
    "df_cl = pd.read_csv('covid_19_clean_complete.csv')\n",
    "df_world = pd.read_csv('worldometer_data.csv')"
   ]
  },
  {
   "cell_type": "code",
   "execution_count": 3,
   "id": "fe7208b6",
   "metadata": {},
   "outputs": [
    {
     "data": {
      "text/html": [
       "<div>\n",
       "<style scoped>\n",
       "    .dataframe tbody tr th:only-of-type {\n",
       "        vertical-align: middle;\n",
       "    }\n",
       "\n",
       "    .dataframe tbody tr th {\n",
       "        vertical-align: top;\n",
       "    }\n",
       "\n",
       "    .dataframe thead th {\n",
       "        text-align: right;\n",
       "    }\n",
       "</style>\n",
       "<table border=\"1\" class=\"dataframe\">\n",
       "  <thead>\n",
       "    <tr style=\"text-align: right;\">\n",
       "      <th></th>\n",
       "      <th>Province/State</th>\n",
       "      <th>Country/Region</th>\n",
       "      <th>Lat</th>\n",
       "      <th>Long</th>\n",
       "      <th>Date</th>\n",
       "      <th>Confirmed</th>\n",
       "      <th>Deaths</th>\n",
       "      <th>Recovered</th>\n",
       "      <th>Active</th>\n",
       "      <th>WHO Region</th>\n",
       "      <th>Continent</th>\n",
       "    </tr>\n",
       "  </thead>\n",
       "  <tbody>\n",
       "    <tr>\n",
       "      <th>0</th>\n",
       "      <td>NaN</td>\n",
       "      <td>Afghanistan</td>\n",
       "      <td>33.93911</td>\n",
       "      <td>67.709953</td>\n",
       "      <td>2020-01-22</td>\n",
       "      <td>0</td>\n",
       "      <td>0</td>\n",
       "      <td>0</td>\n",
       "      <td>0</td>\n",
       "      <td>Eastern Mediterranean</td>\n",
       "      <td>Asia</td>\n",
       "    </tr>\n",
       "    <tr>\n",
       "      <th>1</th>\n",
       "      <td>NaN</td>\n",
       "      <td>Albania</td>\n",
       "      <td>41.15330</td>\n",
       "      <td>20.168300</td>\n",
       "      <td>2020-01-22</td>\n",
       "      <td>0</td>\n",
       "      <td>0</td>\n",
       "      <td>0</td>\n",
       "      <td>0</td>\n",
       "      <td>Europe</td>\n",
       "      <td>Europe</td>\n",
       "    </tr>\n",
       "    <tr>\n",
       "      <th>2</th>\n",
       "      <td>NaN</td>\n",
       "      <td>Algeria</td>\n",
       "      <td>28.03390</td>\n",
       "      <td>1.659600</td>\n",
       "      <td>2020-01-22</td>\n",
       "      <td>0</td>\n",
       "      <td>0</td>\n",
       "      <td>0</td>\n",
       "      <td>0</td>\n",
       "      <td>Africa</td>\n",
       "      <td>Africa</td>\n",
       "    </tr>\n",
       "    <tr>\n",
       "      <th>3</th>\n",
       "      <td>NaN</td>\n",
       "      <td>Andorra</td>\n",
       "      <td>42.50630</td>\n",
       "      <td>1.521800</td>\n",
       "      <td>2020-01-22</td>\n",
       "      <td>0</td>\n",
       "      <td>0</td>\n",
       "      <td>0</td>\n",
       "      <td>0</td>\n",
       "      <td>Europe</td>\n",
       "      <td>Europe</td>\n",
       "    </tr>\n",
       "    <tr>\n",
       "      <th>4</th>\n",
       "      <td>NaN</td>\n",
       "      <td>Angola</td>\n",
       "      <td>-11.20270</td>\n",
       "      <td>17.873900</td>\n",
       "      <td>2020-01-22</td>\n",
       "      <td>0</td>\n",
       "      <td>0</td>\n",
       "      <td>0</td>\n",
       "      <td>0</td>\n",
       "      <td>Africa</td>\n",
       "      <td>Africa</td>\n",
       "    </tr>\n",
       "  </tbody>\n",
       "</table>\n",
       "</div>"
      ],
      "text/plain": [
       "  Province/State Country/Region       Lat       Long        Date  Confirmed  \\\n",
       "0            NaN    Afghanistan  33.93911  67.709953  2020-01-22          0   \n",
       "1            NaN        Albania  41.15330  20.168300  2020-01-22          0   \n",
       "2            NaN        Algeria  28.03390   1.659600  2020-01-22          0   \n",
       "3            NaN        Andorra  42.50630   1.521800  2020-01-22          0   \n",
       "4            NaN         Angola -11.20270  17.873900  2020-01-22          0   \n",
       "\n",
       "   Deaths  Recovered  Active             WHO Region Continent  \n",
       "0       0          0       0  Eastern Mediterranean      Asia  \n",
       "1       0          0       0                 Europe    Europe  \n",
       "2       0          0       0                 Africa    Africa  \n",
       "3       0          0       0                 Europe    Europe  \n",
       "4       0          0       0                 Africa    Africa  "
      ]
     },
     "execution_count": 3,
     "metadata": {},
     "output_type": "execute_result"
    }
   ],
   "source": [
    "# Merging datasets\n",
    "cov_df = df_cl.merge(df_world[[\"Country/Region\", \"Continent\"]], on=\"Country/Region\", how='left')\n",
    "cov_df.head()"
   ]
  },
  {
   "cell_type": "markdown",
   "id": "a7663853",
   "metadata": {},
   "source": [
    "We loaded the datasets and merged the columns needed for the analysis."
   ]
  },
  {
   "cell_type": "markdown",
   "id": "c3d6cf32",
   "metadata": {},
   "source": [
    "## Characterization of the Covid Dataset"
   ]
  },
  {
   "cell_type": "code",
   "execution_count": 4,
   "id": "023d7b07",
   "metadata": {},
   "outputs": [
    {
     "name": "stdout",
     "output_type": "stream",
     "text": [
      "<class 'pandas.core.frame.DataFrame'>\n",
      "Int64Index: 49068 entries, 0 to 49067\n",
      "Data columns (total 11 columns):\n",
      " #   Column          Non-Null Count  Dtype  \n",
      "---  ------          --------------  -----  \n",
      " 0   Province/State  14664 non-null  object \n",
      " 1   Country/Region  49068 non-null  object \n",
      " 2   Lat             49068 non-null  float64\n",
      " 3   Long            49068 non-null  float64\n",
      " 4   Date            49068 non-null  object \n",
      " 5   Confirmed       49068 non-null  int64  \n",
      " 6   Deaths          49068 non-null  int64  \n",
      " 7   Recovered       49068 non-null  int64  \n",
      " 8   Active          49068 non-null  int64  \n",
      " 9   WHO Region      49068 non-null  object \n",
      " 10  Continent       38164 non-null  object \n",
      "dtypes: float64(2), int64(4), object(5)\n",
      "memory usage: 4.5+ MB\n"
     ]
    }
   ],
   "source": [
    "#Analysing the columns dtype and NaN values\n",
    "cov_df.info()"
   ]
  },
  {
   "cell_type": "markdown",
   "id": "e3146b22",
   "metadata": {},
   "source": [
    "We have 11 columns in the dataset in which 2 of them are continuous numerical variables, 4 are discrete numerical variables and 5 are categorical variables."
   ]
  },
  {
   "cell_type": "code",
   "execution_count": 5,
   "id": "62992bce",
   "metadata": {},
   "outputs": [
    {
     "data": {
      "text/plain": [
       "(49068, 11)"
      ]
     },
     "execution_count": 5,
     "metadata": {},
     "output_type": "execute_result"
    }
   ],
   "source": [
    "cov_df.shape"
   ]
  },
  {
   "cell_type": "markdown",
   "id": "c0909c8b",
   "metadata": {},
   "source": [
    "The shape of our dataset has 49068 rows and 11 columns and now let's proceed with Data cleaning before performing any Machine Learning modelling."
   ]
  },
  {
   "cell_type": "code",
   "execution_count": 6,
   "id": "3c84288d",
   "metadata": {},
   "outputs": [
    {
     "data": {
      "text/html": [
       "<div>\n",
       "<style scoped>\n",
       "    .dataframe tbody tr th:only-of-type {\n",
       "        vertical-align: middle;\n",
       "    }\n",
       "\n",
       "    .dataframe tbody tr th {\n",
       "        vertical-align: top;\n",
       "    }\n",
       "\n",
       "    .dataframe thead th {\n",
       "        text-align: right;\n",
       "    }\n",
       "</style>\n",
       "<table border=\"1\" class=\"dataframe\">\n",
       "  <thead>\n",
       "    <tr style=\"text-align: right;\">\n",
       "      <th></th>\n",
       "      <th>Lat</th>\n",
       "      <th>Long</th>\n",
       "      <th>Confirmed</th>\n",
       "      <th>Deaths</th>\n",
       "      <th>Recovered</th>\n",
       "      <th>Active</th>\n",
       "    </tr>\n",
       "  </thead>\n",
       "  <tbody>\n",
       "    <tr>\n",
       "      <th>count</th>\n",
       "      <td>49068.000000</td>\n",
       "      <td>49068.000000</td>\n",
       "      <td>4.906800e+04</td>\n",
       "      <td>49068.000000</td>\n",
       "      <td>4.906800e+04</td>\n",
       "      <td>4.906800e+04</td>\n",
       "    </tr>\n",
       "    <tr>\n",
       "      <th>mean</th>\n",
       "      <td>21.433730</td>\n",
       "      <td>23.528236</td>\n",
       "      <td>1.688490e+04</td>\n",
       "      <td>884.179160</td>\n",
       "      <td>7.915713e+03</td>\n",
       "      <td>8.085012e+03</td>\n",
       "    </tr>\n",
       "    <tr>\n",
       "      <th>std</th>\n",
       "      <td>24.950320</td>\n",
       "      <td>70.442740</td>\n",
       "      <td>1.273002e+05</td>\n",
       "      <td>6313.584411</td>\n",
       "      <td>5.480092e+04</td>\n",
       "      <td>7.625890e+04</td>\n",
       "    </tr>\n",
       "    <tr>\n",
       "      <th>min</th>\n",
       "      <td>-51.796300</td>\n",
       "      <td>-135.000000</td>\n",
       "      <td>0.000000e+00</td>\n",
       "      <td>0.000000</td>\n",
       "      <td>0.000000e+00</td>\n",
       "      <td>-1.400000e+01</td>\n",
       "    </tr>\n",
       "    <tr>\n",
       "      <th>25%</th>\n",
       "      <td>7.873054</td>\n",
       "      <td>-15.310100</td>\n",
       "      <td>4.000000e+00</td>\n",
       "      <td>0.000000</td>\n",
       "      <td>0.000000e+00</td>\n",
       "      <td>0.000000e+00</td>\n",
       "    </tr>\n",
       "    <tr>\n",
       "      <th>50%</th>\n",
       "      <td>23.634500</td>\n",
       "      <td>21.745300</td>\n",
       "      <td>1.680000e+02</td>\n",
       "      <td>2.000000</td>\n",
       "      <td>2.900000e+01</td>\n",
       "      <td>2.600000e+01</td>\n",
       "    </tr>\n",
       "    <tr>\n",
       "      <th>75%</th>\n",
       "      <td>41.204380</td>\n",
       "      <td>80.771797</td>\n",
       "      <td>1.518250e+03</td>\n",
       "      <td>30.000000</td>\n",
       "      <td>6.660000e+02</td>\n",
       "      <td>6.060000e+02</td>\n",
       "    </tr>\n",
       "    <tr>\n",
       "      <th>max</th>\n",
       "      <td>71.706900</td>\n",
       "      <td>178.065000</td>\n",
       "      <td>4.290259e+06</td>\n",
       "      <td>148011.000000</td>\n",
       "      <td>1.846641e+06</td>\n",
       "      <td>2.816444e+06</td>\n",
       "    </tr>\n",
       "  </tbody>\n",
       "</table>\n",
       "</div>"
      ],
      "text/plain": [
       "                Lat          Long     Confirmed         Deaths     Recovered  \\\n",
       "count  49068.000000  49068.000000  4.906800e+04   49068.000000  4.906800e+04   \n",
       "mean      21.433730     23.528236  1.688490e+04     884.179160  7.915713e+03   \n",
       "std       24.950320     70.442740  1.273002e+05    6313.584411  5.480092e+04   \n",
       "min      -51.796300   -135.000000  0.000000e+00       0.000000  0.000000e+00   \n",
       "25%        7.873054    -15.310100  4.000000e+00       0.000000  0.000000e+00   \n",
       "50%       23.634500     21.745300  1.680000e+02       2.000000  2.900000e+01   \n",
       "75%       41.204380     80.771797  1.518250e+03      30.000000  6.660000e+02   \n",
       "max       71.706900    178.065000  4.290259e+06  148011.000000  1.846641e+06   \n",
       "\n",
       "             Active  \n",
       "count  4.906800e+04  \n",
       "mean   8.085012e+03  \n",
       "std    7.625890e+04  \n",
       "min   -1.400000e+01  \n",
       "25%    0.000000e+00  \n",
       "50%    2.600000e+01  \n",
       "75%    6.060000e+02  \n",
       "max    2.816444e+06  "
      ]
     },
     "execution_count": 6,
     "metadata": {},
     "output_type": "execute_result"
    }
   ],
   "source": [
    "#Showing the insights of the numerical values\n",
    "cov_df.describe()"
   ]
  },
  {
   "cell_type": "markdown",
   "id": "96c3215e",
   "metadata": {},
   "source": [
    "In the dataset we can appreciate some details as latitude, and longitude which show us where is every country located, and a collection of confirmed, deaths, recovered, and active cases of Covid."
   ]
  },
  {
   "cell_type": "code",
   "execution_count": 7,
   "id": "ce791251",
   "metadata": {},
   "outputs": [
    {
     "data": {
      "text/html": [
       "<div>\n",
       "<style scoped>\n",
       "    .dataframe tbody tr th:only-of-type {\n",
       "        vertical-align: middle;\n",
       "    }\n",
       "\n",
       "    .dataframe tbody tr th {\n",
       "        vertical-align: top;\n",
       "    }\n",
       "\n",
       "    .dataframe thead th {\n",
       "        text-align: right;\n",
       "    }\n",
       "</style>\n",
       "<table border=\"1\" class=\"dataframe\">\n",
       "  <thead>\n",
       "    <tr style=\"text-align: right;\">\n",
       "      <th></th>\n",
       "      <th>Province/State</th>\n",
       "      <th>Country/Region</th>\n",
       "      <th>Date</th>\n",
       "      <th>WHO Region</th>\n",
       "      <th>Continent</th>\n",
       "    </tr>\n",
       "  </thead>\n",
       "  <tbody>\n",
       "    <tr>\n",
       "      <th>count</th>\n",
       "      <td>14664</td>\n",
       "      <td>49068</td>\n",
       "      <td>49068</td>\n",
       "      <td>49068</td>\n",
       "      <td>38164</td>\n",
       "    </tr>\n",
       "    <tr>\n",
       "      <th>unique</th>\n",
       "      <td>78</td>\n",
       "      <td>187</td>\n",
       "      <td>188</td>\n",
       "      <td>6</td>\n",
       "      <td>6</td>\n",
       "    </tr>\n",
       "    <tr>\n",
       "      <th>top</th>\n",
       "      <td>Australian Capital Territory</td>\n",
       "      <td>China</td>\n",
       "      <td>2020-01-22</td>\n",
       "      <td>Europe</td>\n",
       "      <td>Europe</td>\n",
       "    </tr>\n",
       "    <tr>\n",
       "      <th>freq</th>\n",
       "      <td>188</td>\n",
       "      <td>6204</td>\n",
       "      <td>261</td>\n",
       "      <td>15040</td>\n",
       "      <td>10528</td>\n",
       "    </tr>\n",
       "  </tbody>\n",
       "</table>\n",
       "</div>"
      ],
      "text/plain": [
       "                      Province/State Country/Region        Date WHO Region  \\\n",
       "count                          14664          49068       49068      49068   \n",
       "unique                            78            187         188          6   \n",
       "top     Australian Capital Territory          China  2020-01-22     Europe   \n",
       "freq                             188           6204         261      15040   \n",
       "\n",
       "       Continent  \n",
       "count      38164  \n",
       "unique         6  \n",
       "top       Europe  \n",
       "freq       10528  "
      ]
     },
     "execution_count": 7,
     "metadata": {},
     "output_type": "execute_result"
    }
   ],
   "source": [
    "#Showing the insights of the categorical values\n",
    "cov_df.describe(include='object')"
   ]
  },
  {
   "cell_type": "markdown",
   "id": "0ba5f970",
   "metadata": {},
   "source": [
    "In our categorical variables, we can see that we have 187 countries in our dataset"
   ]
  },
  {
   "cell_type": "markdown",
   "id": "4882b667",
   "metadata": {},
   "source": [
    "## Data Cleaning"
   ]
  },
  {
   "cell_type": "code",
   "execution_count": 8,
   "id": "410ed14c",
   "metadata": {},
   "outputs": [
    {
     "data": {
      "text/html": [
       "<div>\n",
       "<style scoped>\n",
       "    .dataframe tbody tr th:only-of-type {\n",
       "        vertical-align: middle;\n",
       "    }\n",
       "\n",
       "    .dataframe tbody tr th {\n",
       "        vertical-align: top;\n",
       "    }\n",
       "\n",
       "    .dataframe thead th {\n",
       "        text-align: right;\n",
       "    }\n",
       "</style>\n",
       "<table border=\"1\" class=\"dataframe\">\n",
       "  <thead>\n",
       "    <tr style=\"text-align: right;\">\n",
       "      <th></th>\n",
       "      <th>Province/State</th>\n",
       "      <th>Country/Region</th>\n",
       "      <th>Lat</th>\n",
       "      <th>Long</th>\n",
       "      <th>Date</th>\n",
       "      <th>Confirmed</th>\n",
       "      <th>Deaths</th>\n",
       "      <th>Recovered</th>\n",
       "      <th>Active</th>\n",
       "      <th>WHO Region</th>\n",
       "      <th>Continent</th>\n",
       "    </tr>\n",
       "  </thead>\n",
       "  <tbody>\n",
       "    <tr>\n",
       "      <th>0</th>\n",
       "      <td>NaN</td>\n",
       "      <td>Afghanistan</td>\n",
       "      <td>33.939110</td>\n",
       "      <td>67.709953</td>\n",
       "      <td>2020-01-22</td>\n",
       "      <td>0</td>\n",
       "      <td>0</td>\n",
       "      <td>0</td>\n",
       "      <td>0</td>\n",
       "      <td>Eastern Mediterranean</td>\n",
       "      <td>Asia</td>\n",
       "    </tr>\n",
       "    <tr>\n",
       "      <th>1</th>\n",
       "      <td>NaN</td>\n",
       "      <td>Albania</td>\n",
       "      <td>41.153300</td>\n",
       "      <td>20.168300</td>\n",
       "      <td>2020-01-22</td>\n",
       "      <td>0</td>\n",
       "      <td>0</td>\n",
       "      <td>0</td>\n",
       "      <td>0</td>\n",
       "      <td>Europe</td>\n",
       "      <td>Europe</td>\n",
       "    </tr>\n",
       "    <tr>\n",
       "      <th>2</th>\n",
       "      <td>NaN</td>\n",
       "      <td>Algeria</td>\n",
       "      <td>28.033900</td>\n",
       "      <td>1.659600</td>\n",
       "      <td>2020-01-22</td>\n",
       "      <td>0</td>\n",
       "      <td>0</td>\n",
       "      <td>0</td>\n",
       "      <td>0</td>\n",
       "      <td>Africa</td>\n",
       "      <td>Africa</td>\n",
       "    </tr>\n",
       "    <tr>\n",
       "      <th>3</th>\n",
       "      <td>NaN</td>\n",
       "      <td>Andorra</td>\n",
       "      <td>42.506300</td>\n",
       "      <td>1.521800</td>\n",
       "      <td>2020-01-22</td>\n",
       "      <td>0</td>\n",
       "      <td>0</td>\n",
       "      <td>0</td>\n",
       "      <td>0</td>\n",
       "      <td>Europe</td>\n",
       "      <td>Europe</td>\n",
       "    </tr>\n",
       "    <tr>\n",
       "      <th>4</th>\n",
       "      <td>NaN</td>\n",
       "      <td>Angola</td>\n",
       "      <td>-11.202700</td>\n",
       "      <td>17.873900</td>\n",
       "      <td>2020-01-22</td>\n",
       "      <td>0</td>\n",
       "      <td>0</td>\n",
       "      <td>0</td>\n",
       "      <td>0</td>\n",
       "      <td>Africa</td>\n",
       "      <td>Africa</td>\n",
       "    </tr>\n",
       "    <tr>\n",
       "      <th>...</th>\n",
       "      <td>...</td>\n",
       "      <td>...</td>\n",
       "      <td>...</td>\n",
       "      <td>...</td>\n",
       "      <td>...</td>\n",
       "      <td>...</td>\n",
       "      <td>...</td>\n",
       "      <td>...</td>\n",
       "      <td>...</td>\n",
       "      <td>...</td>\n",
       "      <td>...</td>\n",
       "    </tr>\n",
       "    <tr>\n",
       "      <th>49063</th>\n",
       "      <td>NaN</td>\n",
       "      <td>Sao Tome and Principe</td>\n",
       "      <td>0.186400</td>\n",
       "      <td>6.613100</td>\n",
       "      <td>2020-07-27</td>\n",
       "      <td>865</td>\n",
       "      <td>14</td>\n",
       "      <td>734</td>\n",
       "      <td>117</td>\n",
       "      <td>Africa</td>\n",
       "      <td>Africa</td>\n",
       "    </tr>\n",
       "    <tr>\n",
       "      <th>49064</th>\n",
       "      <td>NaN</td>\n",
       "      <td>Yemen</td>\n",
       "      <td>15.552727</td>\n",
       "      <td>48.516388</td>\n",
       "      <td>2020-07-27</td>\n",
       "      <td>1691</td>\n",
       "      <td>483</td>\n",
       "      <td>833</td>\n",
       "      <td>375</td>\n",
       "      <td>Eastern Mediterranean</td>\n",
       "      <td>Asia</td>\n",
       "    </tr>\n",
       "    <tr>\n",
       "      <th>49065</th>\n",
       "      <td>NaN</td>\n",
       "      <td>Comoros</td>\n",
       "      <td>-11.645500</td>\n",
       "      <td>43.333300</td>\n",
       "      <td>2020-07-27</td>\n",
       "      <td>354</td>\n",
       "      <td>7</td>\n",
       "      <td>328</td>\n",
       "      <td>19</td>\n",
       "      <td>Africa</td>\n",
       "      <td>Africa</td>\n",
       "    </tr>\n",
       "    <tr>\n",
       "      <th>49066</th>\n",
       "      <td>NaN</td>\n",
       "      <td>Tajikistan</td>\n",
       "      <td>38.861000</td>\n",
       "      <td>71.276100</td>\n",
       "      <td>2020-07-27</td>\n",
       "      <td>7235</td>\n",
       "      <td>60</td>\n",
       "      <td>6028</td>\n",
       "      <td>1147</td>\n",
       "      <td>Europe</td>\n",
       "      <td>Asia</td>\n",
       "    </tr>\n",
       "    <tr>\n",
       "      <th>49067</th>\n",
       "      <td>NaN</td>\n",
       "      <td>Lesotho</td>\n",
       "      <td>-29.610000</td>\n",
       "      <td>28.233600</td>\n",
       "      <td>2020-07-27</td>\n",
       "      <td>505</td>\n",
       "      <td>12</td>\n",
       "      <td>128</td>\n",
       "      <td>365</td>\n",
       "      <td>Africa</td>\n",
       "      <td>Africa</td>\n",
       "    </tr>\n",
       "  </tbody>\n",
       "</table>\n",
       "<p>49068 rows × 11 columns</p>\n",
       "</div>"
      ],
      "text/plain": [
       "      Province/State         Country/Region        Lat       Long        Date  \\\n",
       "0                NaN            Afghanistan  33.939110  67.709953  2020-01-22   \n",
       "1                NaN                Albania  41.153300  20.168300  2020-01-22   \n",
       "2                NaN                Algeria  28.033900   1.659600  2020-01-22   \n",
       "3                NaN                Andorra  42.506300   1.521800  2020-01-22   \n",
       "4                NaN                 Angola -11.202700  17.873900  2020-01-22   \n",
       "...              ...                    ...        ...        ...         ...   \n",
       "49063            NaN  Sao Tome and Principe   0.186400   6.613100  2020-07-27   \n",
       "49064            NaN                  Yemen  15.552727  48.516388  2020-07-27   \n",
       "49065            NaN                Comoros -11.645500  43.333300  2020-07-27   \n",
       "49066            NaN             Tajikistan  38.861000  71.276100  2020-07-27   \n",
       "49067            NaN                Lesotho -29.610000  28.233600  2020-07-27   \n",
       "\n",
       "       Confirmed  Deaths  Recovered  Active             WHO Region Continent  \n",
       "0              0       0          0       0  Eastern Mediterranean      Asia  \n",
       "1              0       0          0       0                 Europe    Europe  \n",
       "2              0       0          0       0                 Africa    Africa  \n",
       "3              0       0          0       0                 Europe    Europe  \n",
       "4              0       0          0       0                 Africa    Africa  \n",
       "...          ...     ...        ...     ...                    ...       ...  \n",
       "49063        865      14        734     117                 Africa    Africa  \n",
       "49064       1691     483        833     375  Eastern Mediterranean      Asia  \n",
       "49065        354       7        328      19                 Africa    Africa  \n",
       "49066       7235      60       6028    1147                 Europe      Asia  \n",
       "49067        505      12        128     365                 Africa    Africa  \n",
       "\n",
       "[49068 rows x 11 columns]"
      ]
     },
     "execution_count": 8,
     "metadata": {},
     "output_type": "execute_result"
    }
   ],
   "source": [
    "# Dropping duplicates\n",
    "cov_df.drop_duplicates()"
   ]
  },
  {
   "cell_type": "code",
   "execution_count": 9,
   "id": "9c937150",
   "metadata": {},
   "outputs": [
    {
     "data": {
      "text/plain": [
       "(49068, 11)"
      ]
     },
     "execution_count": 9,
     "metadata": {},
     "output_type": "execute_result"
    }
   ],
   "source": [
    "# Showing the shape of the dataframe after dropping duplicates\n",
    "cov_df.shape"
   ]
  },
  {
   "cell_type": "markdown",
   "id": "415353d8",
   "metadata": {},
   "source": [
    "The number of rows didn't change after dropping duplicates, and this means that our data doesn't have duplicates inside and in the following code we are going to standarize the NaN values."
   ]
  },
  {
   "cell_type": "code",
   "execution_count": 10,
   "id": "ffac6ffa",
   "metadata": {},
   "outputs": [],
   "source": [
    "# Standarizing \"NaN\" values\n",
    "missing_val = [\"n.a.\", \"?\", \"NA\", \"n/a\", \"na\", \"--\"]\n",
    "cov_df = cov_df.replace(missing_val, pd.NA)"
   ]
  },
  {
   "cell_type": "code",
   "execution_count": 11,
   "id": "24070de6",
   "metadata": {},
   "outputs": [
    {
     "data": {
      "text/plain": [
       "Province/State    70.114943\n",
       "Country/Region     0.000000\n",
       "Lat                0.000000\n",
       "Long               0.000000\n",
       "Date               0.000000\n",
       "Confirmed          0.000000\n",
       "Deaths             0.000000\n",
       "Recovered          0.000000\n",
       "Active             0.000000\n",
       "WHO Region         0.000000\n",
       "Continent         22.222222\n",
       "dtype: float64"
      ]
     },
     "execution_count": 11,
     "metadata": {},
     "output_type": "execute_result"
    }
   ],
   "source": [
    "#Showing the percentage of NaN values in each column\n",
    "NaN_per = (cov_df.isnull().sum()/len(cov_df))*100\n",
    "NaN_per"
   ]
  },
  {
   "cell_type": "markdown",
   "id": "558680f6",
   "metadata": {},
   "source": [
    "As we can see the variable \"Province/state\" has around 70% of Null values present, and we decided to drop it since it would create bias and variance leading into bad predictions in our Machine Learning predictions.\n",
    "\n",
    "In the column continent, as it is related to \"WHO Region\", we are going to annalyze the columns to see how similar they are."
   ]
  },
  {
   "cell_type": "code",
   "execution_count": 12,
   "id": "bd30d538",
   "metadata": {},
   "outputs": [
    {
     "data": {
      "text/plain": [
       "array(['Asia', 'Europe', 'Africa', 'North America', 'South America',\n",
       "       'Australia/Oceania', nan], dtype=object)"
      ]
     },
     "execution_count": 12,
     "metadata": {},
     "output_type": "execute_result"
    }
   ],
   "source": [
    "# Dropping \"Province/State and showing the unique values of \"Continent\"\n",
    "cov_df.drop('Province/State', axis=1, inplace=True)\n",
    "cov_df['Continent'].unique()"
   ]
  },
  {
   "cell_type": "code",
   "execution_count": 13,
   "id": "d36333e9",
   "metadata": {},
   "outputs": [
    {
     "data": {
      "text/plain": [
       "array(['Eastern Mediterranean', 'Europe', 'Africa', 'Americas',\n",
       "       'Western Pacific', 'South-East Asia'], dtype=object)"
      ]
     },
     "execution_count": 13,
     "metadata": {},
     "output_type": "execute_result"
    }
   ],
   "source": [
    "#Showing the unique values of \"WHO Region\"\n",
    "cov_df['WHO Region'].unique()"
   ]
  },
  {
   "cell_type": "markdown",
   "id": "49548272",
   "metadata": {},
   "source": [
    "In the column \"WHO Region\", we have similar unique values; however, they are not the same for exaplme in Eastern Mediterranean Regions could be included European and non/European countries, that is why we are going to replace the NAN- variables as \"Unknown\"; this decission won't affect when we are annalyzing Europe as \"WHO region\"."
   ]
  },
  {
   "cell_type": "code",
   "execution_count": 14,
   "id": "c471b31c",
   "metadata": {},
   "outputs": [],
   "source": [
    "cov_df['Continent'].fillna('Unknown', inplace=True)"
   ]
  },
  {
   "cell_type": "code",
   "execution_count": 15,
   "id": "56fff043",
   "metadata": {},
   "outputs": [
    {
     "data": {
      "text/html": [
       "<div>\n",
       "<style scoped>\n",
       "    .dataframe tbody tr th:only-of-type {\n",
       "        vertical-align: middle;\n",
       "    }\n",
       "\n",
       "    .dataframe tbody tr th {\n",
       "        vertical-align: top;\n",
       "    }\n",
       "\n",
       "    .dataframe thead th {\n",
       "        text-align: right;\n",
       "    }\n",
       "</style>\n",
       "<table border=\"1\" class=\"dataframe\">\n",
       "  <thead>\n",
       "    <tr style=\"text-align: right;\">\n",
       "      <th></th>\n",
       "      <th>Country/Region</th>\n",
       "      <th>Lat</th>\n",
       "      <th>Long</th>\n",
       "      <th>Date</th>\n",
       "      <th>Confirmed</th>\n",
       "      <th>Deaths</th>\n",
       "      <th>Recovered</th>\n",
       "      <th>Active</th>\n",
       "      <th>WHO Region</th>\n",
       "      <th>Continent</th>\n",
       "    </tr>\n",
       "  </thead>\n",
       "  <tbody>\n",
       "    <tr>\n",
       "      <th>0</th>\n",
       "      <td>Afghanistan</td>\n",
       "      <td>33.939110</td>\n",
       "      <td>67.709953</td>\n",
       "      <td>2020-01-22</td>\n",
       "      <td>0</td>\n",
       "      <td>0</td>\n",
       "      <td>0</td>\n",
       "      <td>0</td>\n",
       "      <td>Eastern Mediterranean</td>\n",
       "      <td>Asia</td>\n",
       "    </tr>\n",
       "    <tr>\n",
       "      <th>1</th>\n",
       "      <td>Albania</td>\n",
       "      <td>41.153300</td>\n",
       "      <td>20.168300</td>\n",
       "      <td>2020-01-22</td>\n",
       "      <td>0</td>\n",
       "      <td>0</td>\n",
       "      <td>0</td>\n",
       "      <td>0</td>\n",
       "      <td>Europe</td>\n",
       "      <td>Europe</td>\n",
       "    </tr>\n",
       "    <tr>\n",
       "      <th>2</th>\n",
       "      <td>Algeria</td>\n",
       "      <td>28.033900</td>\n",
       "      <td>1.659600</td>\n",
       "      <td>2020-01-22</td>\n",
       "      <td>0</td>\n",
       "      <td>0</td>\n",
       "      <td>0</td>\n",
       "      <td>0</td>\n",
       "      <td>Africa</td>\n",
       "      <td>Africa</td>\n",
       "    </tr>\n",
       "    <tr>\n",
       "      <th>3</th>\n",
       "      <td>Andorra</td>\n",
       "      <td>42.506300</td>\n",
       "      <td>1.521800</td>\n",
       "      <td>2020-01-22</td>\n",
       "      <td>0</td>\n",
       "      <td>0</td>\n",
       "      <td>0</td>\n",
       "      <td>0</td>\n",
       "      <td>Europe</td>\n",
       "      <td>Europe</td>\n",
       "    </tr>\n",
       "    <tr>\n",
       "      <th>4</th>\n",
       "      <td>Angola</td>\n",
       "      <td>-11.202700</td>\n",
       "      <td>17.873900</td>\n",
       "      <td>2020-01-22</td>\n",
       "      <td>0</td>\n",
       "      <td>0</td>\n",
       "      <td>0</td>\n",
       "      <td>0</td>\n",
       "      <td>Africa</td>\n",
       "      <td>Africa</td>\n",
       "    </tr>\n",
       "    <tr>\n",
       "      <th>...</th>\n",
       "      <td>...</td>\n",
       "      <td>...</td>\n",
       "      <td>...</td>\n",
       "      <td>...</td>\n",
       "      <td>...</td>\n",
       "      <td>...</td>\n",
       "      <td>...</td>\n",
       "      <td>...</td>\n",
       "      <td>...</td>\n",
       "      <td>...</td>\n",
       "    </tr>\n",
       "    <tr>\n",
       "      <th>49063</th>\n",
       "      <td>Sao Tome and Principe</td>\n",
       "      <td>0.186400</td>\n",
       "      <td>6.613100</td>\n",
       "      <td>2020-07-27</td>\n",
       "      <td>865</td>\n",
       "      <td>14</td>\n",
       "      <td>734</td>\n",
       "      <td>117</td>\n",
       "      <td>Africa</td>\n",
       "      <td>Africa</td>\n",
       "    </tr>\n",
       "    <tr>\n",
       "      <th>49064</th>\n",
       "      <td>Yemen</td>\n",
       "      <td>15.552727</td>\n",
       "      <td>48.516388</td>\n",
       "      <td>2020-07-27</td>\n",
       "      <td>1691</td>\n",
       "      <td>483</td>\n",
       "      <td>833</td>\n",
       "      <td>375</td>\n",
       "      <td>Eastern Mediterranean</td>\n",
       "      <td>Asia</td>\n",
       "    </tr>\n",
       "    <tr>\n",
       "      <th>49065</th>\n",
       "      <td>Comoros</td>\n",
       "      <td>-11.645500</td>\n",
       "      <td>43.333300</td>\n",
       "      <td>2020-07-27</td>\n",
       "      <td>354</td>\n",
       "      <td>7</td>\n",
       "      <td>328</td>\n",
       "      <td>19</td>\n",
       "      <td>Africa</td>\n",
       "      <td>Africa</td>\n",
       "    </tr>\n",
       "    <tr>\n",
       "      <th>49066</th>\n",
       "      <td>Tajikistan</td>\n",
       "      <td>38.861000</td>\n",
       "      <td>71.276100</td>\n",
       "      <td>2020-07-27</td>\n",
       "      <td>7235</td>\n",
       "      <td>60</td>\n",
       "      <td>6028</td>\n",
       "      <td>1147</td>\n",
       "      <td>Europe</td>\n",
       "      <td>Asia</td>\n",
       "    </tr>\n",
       "    <tr>\n",
       "      <th>49067</th>\n",
       "      <td>Lesotho</td>\n",
       "      <td>-29.610000</td>\n",
       "      <td>28.233600</td>\n",
       "      <td>2020-07-27</td>\n",
       "      <td>505</td>\n",
       "      <td>12</td>\n",
       "      <td>128</td>\n",
       "      <td>365</td>\n",
       "      <td>Africa</td>\n",
       "      <td>Africa</td>\n",
       "    </tr>\n",
       "  </tbody>\n",
       "</table>\n",
       "<p>49068 rows × 10 columns</p>\n",
       "</div>"
      ],
      "text/plain": [
       "              Country/Region        Lat       Long        Date  Confirmed  \\\n",
       "0                Afghanistan  33.939110  67.709953  2020-01-22          0   \n",
       "1                    Albania  41.153300  20.168300  2020-01-22          0   \n",
       "2                    Algeria  28.033900   1.659600  2020-01-22          0   \n",
       "3                    Andorra  42.506300   1.521800  2020-01-22          0   \n",
       "4                     Angola -11.202700  17.873900  2020-01-22          0   \n",
       "...                      ...        ...        ...         ...        ...   \n",
       "49063  Sao Tome and Principe   0.186400   6.613100  2020-07-27        865   \n",
       "49064                  Yemen  15.552727  48.516388  2020-07-27       1691   \n",
       "49065                Comoros -11.645500  43.333300  2020-07-27        354   \n",
       "49066             Tajikistan  38.861000  71.276100  2020-07-27       7235   \n",
       "49067                Lesotho -29.610000  28.233600  2020-07-27        505   \n",
       "\n",
       "       Deaths  Recovered  Active             WHO Region Continent  \n",
       "0           0          0       0  Eastern Mediterranean      Asia  \n",
       "1           0          0       0                 Europe    Europe  \n",
       "2           0          0       0                 Africa    Africa  \n",
       "3           0          0       0                 Europe    Europe  \n",
       "4           0          0       0                 Africa    Africa  \n",
       "...       ...        ...     ...                    ...       ...  \n",
       "49063      14        734     117                 Africa    Africa  \n",
       "49064     483        833     375  Eastern Mediterranean      Asia  \n",
       "49065       7        328      19                 Africa    Africa  \n",
       "49066      60       6028    1147                 Europe      Asia  \n",
       "49067      12        128     365                 Africa    Africa  \n",
       "\n",
       "[49068 rows x 10 columns]"
      ]
     },
     "execution_count": 15,
     "metadata": {},
     "output_type": "execute_result"
    }
   ],
   "source": [
    "cov_df"
   ]
  },
  {
   "cell_type": "markdown",
   "id": "4f759ec0",
   "metadata": {},
   "source": [
    "## ANALYSIS OF THE STAGES OF COVID"
   ]
  },
  {
   "cell_type": "markdown",
   "id": "53dac258",
   "metadata": {},
   "source": [
    "## Confirmed Cases Chart"
   ]
  },
  {
   "cell_type": "code",
   "execution_count": 37,
   "id": "b1d866c2",
   "metadata": {},
   "outputs": [
    {
     "data": {
      "image/png": "[encoded data removed]",
      "text/plain": [
       "<Figure size 1000x600 with 1 Axes>"
      ]
     },
     "metadata": {},
     "output_type": "display_data"
    }
   ],
   "source": [
    "#Ploting the percentage of Confirmed Cases by Continent\n",
    "\n",
    "conf_cases = cov_df.groupby('WHO Region')['Confirmed'].sum()\n",
    "\n",
    "total = conf_cases.sum()\n",
    "\n",
    "# Obteining the percentage\n",
    "percentages_conf = (conf_cases / total) * 100\n",
    "\n",
    "# Generating the plot\n",
    "plt.figure(figsize=(10,6))\n",
    "ax = sns.barplot(x=percentages_conf.index, y=percentages_conf.values, color='blue')\n",
    "\n",
    "for p in ax.patches:\n",
    "    height = p.get_height()\n",
    "    ax.text(p.get_x() + p.get_width()/2., height + 0.5, f'{height:.2f}%', ha=\"center\")\n",
    "\n",
    "plt.title('Percentage of Confirmed Cases by WHO Region')\n",
    "plt.xlabel('Continent')\n",
    "plt.ylabel('Percentage (%)')\n",
    "plt.show()"
   ]
  },
  {
   "cell_type": "code",
   "execution_count": null,
   "id": "133c7676",
   "metadata": {},
   "outputs": [],
   "source": []
  },
  {
   "cell_type": "code",
   "execution_count": null,
   "id": "e17df4ac",
   "metadata": {},
   "outputs": [],
   "source": []
  },
  {
   "cell_type": "code",
   "execution_count": null,
   "id": "b678918d",
   "metadata": {},
   "outputs": [],
   "source": []
  },
  {
   "cell_type": "code",
   "execution_count": null,
   "id": "3bc7d399",
   "metadata": {},
   "outputs": [],
   "source": []
  },
  {
   "cell_type": "code",
   "execution_count": null,
   "id": "cf38dea9",
   "metadata": {},
   "outputs": [],
   "source": []
  },
  {
   "cell_type": "code",
   "execution_count": null,
   "id": "29cc694d",
   "metadata": {},
   "outputs": [],
   "source": []
  },
  {
   "cell_type": "code",
   "execution_count": null,
   "id": "0d2a9303",
   "metadata": {},
   "outputs": [],
   "source": []
  },
  {
   "cell_type": "code",
   "execution_count": null,
   "id": "3f52b8c6",
   "metadata": {},
   "outputs": [],
   "source": []
  },
  {
   "cell_type": "code",
   "execution_count": null,
   "id": "55c62d68",
   "metadata": {},
   "outputs": [],
   "source": []
  },
  {
   "cell_type": "markdown",
   "id": "07ec0413",
   "metadata": {},
   "source": [
    "## Time Series Analysis of Confirmed cases in Europe (WHO Region)"
   ]
  },
  {
   "cell_type": "code",
   "execution_count": 16,
   "id": "2b59d45d",
   "metadata": {},
   "outputs": [
    {
     "data": {
      "text/html": [
       "<div>\n",
       "<style scoped>\n",
       "    .dataframe tbody tr th:only-of-type {\n",
       "        vertical-align: middle;\n",
       "    }\n",
       "\n",
       "    .dataframe tbody tr th {\n",
       "        vertical-align: top;\n",
       "    }\n",
       "\n",
       "    .dataframe thead th {\n",
       "        text-align: right;\n",
       "    }\n",
       "</style>\n",
       "<table border=\"1\" class=\"dataframe\">\n",
       "  <thead>\n",
       "    <tr style=\"text-align: right;\">\n",
       "      <th></th>\n",
       "      <th>Country/Region</th>\n",
       "      <th>Lat</th>\n",
       "      <th>Long</th>\n",
       "      <th>Date</th>\n",
       "      <th>Confirmed</th>\n",
       "      <th>Deaths</th>\n",
       "      <th>Recovered</th>\n",
       "      <th>Active</th>\n",
       "      <th>WHO Region</th>\n",
       "      <th>Continent</th>\n",
       "    </tr>\n",
       "  </thead>\n",
       "  <tbody>\n",
       "    <tr>\n",
       "      <th>0</th>\n",
       "      <td>Albania</td>\n",
       "      <td>41.1533</td>\n",
       "      <td>20.1683</td>\n",
       "      <td>2020-01-22</td>\n",
       "      <td>0</td>\n",
       "      <td>0</td>\n",
       "      <td>0</td>\n",
       "      <td>0</td>\n",
       "      <td>Europe</td>\n",
       "      <td>Europe</td>\n",
       "    </tr>\n",
       "    <tr>\n",
       "      <th>1</th>\n",
       "      <td>Andorra</td>\n",
       "      <td>42.5063</td>\n",
       "      <td>1.5218</td>\n",
       "      <td>2020-01-22</td>\n",
       "      <td>0</td>\n",
       "      <td>0</td>\n",
       "      <td>0</td>\n",
       "      <td>0</td>\n",
       "      <td>Europe</td>\n",
       "      <td>Europe</td>\n",
       "    </tr>\n",
       "    <tr>\n",
       "      <th>2</th>\n",
       "      <td>Armenia</td>\n",
       "      <td>40.0691</td>\n",
       "      <td>45.0382</td>\n",
       "      <td>2020-01-22</td>\n",
       "      <td>0</td>\n",
       "      <td>0</td>\n",
       "      <td>0</td>\n",
       "      <td>0</td>\n",
       "      <td>Europe</td>\n",
       "      <td>Asia</td>\n",
       "    </tr>\n",
       "    <tr>\n",
       "      <th>3</th>\n",
       "      <td>Austria</td>\n",
       "      <td>47.5162</td>\n",
       "      <td>14.5501</td>\n",
       "      <td>2020-01-22</td>\n",
       "      <td>0</td>\n",
       "      <td>0</td>\n",
       "      <td>0</td>\n",
       "      <td>0</td>\n",
       "      <td>Europe</td>\n",
       "      <td>Europe</td>\n",
       "    </tr>\n",
       "    <tr>\n",
       "      <th>4</th>\n",
       "      <td>Azerbaijan</td>\n",
       "      <td>40.1431</td>\n",
       "      <td>47.5769</td>\n",
       "      <td>2020-01-22</td>\n",
       "      <td>0</td>\n",
       "      <td>0</td>\n",
       "      <td>0</td>\n",
       "      <td>0</td>\n",
       "      <td>Europe</td>\n",
       "      <td>Asia</td>\n",
       "    </tr>\n",
       "    <tr>\n",
       "      <th>...</th>\n",
       "      <td>...</td>\n",
       "      <td>...</td>\n",
       "      <td>...</td>\n",
       "      <td>...</td>\n",
       "      <td>...</td>\n",
       "      <td>...</td>\n",
       "      <td>...</td>\n",
       "      <td>...</td>\n",
       "      <td>...</td>\n",
       "      <td>...</td>\n",
       "    </tr>\n",
       "    <tr>\n",
       "      <th>15035</th>\n",
       "      <td>United Kingdom</td>\n",
       "      <td>18.4207</td>\n",
       "      <td>-64.6400</td>\n",
       "      <td>2020-07-27</td>\n",
       "      <td>8</td>\n",
       "      <td>1</td>\n",
       "      <td>7</td>\n",
       "      <td>0</td>\n",
       "      <td>Europe</td>\n",
       "      <td>Unknown</td>\n",
       "    </tr>\n",
       "    <tr>\n",
       "      <th>15036</th>\n",
       "      <td>United Kingdom</td>\n",
       "      <td>21.6940</td>\n",
       "      <td>-71.7979</td>\n",
       "      <td>2020-07-27</td>\n",
       "      <td>99</td>\n",
       "      <td>2</td>\n",
       "      <td>36</td>\n",
       "      <td>61</td>\n",
       "      <td>Europe</td>\n",
       "      <td>Unknown</td>\n",
       "    </tr>\n",
       "    <tr>\n",
       "      <th>15037</th>\n",
       "      <td>United Kingdom</td>\n",
       "      <td>-51.7963</td>\n",
       "      <td>-59.5236</td>\n",
       "      <td>2020-07-27</td>\n",
       "      <td>13</td>\n",
       "      <td>0</td>\n",
       "      <td>13</td>\n",
       "      <td>0</td>\n",
       "      <td>Europe</td>\n",
       "      <td>Unknown</td>\n",
       "    </tr>\n",
       "    <tr>\n",
       "      <th>15038</th>\n",
       "      <td>France</td>\n",
       "      <td>46.8852</td>\n",
       "      <td>-56.3159</td>\n",
       "      <td>2020-07-27</td>\n",
       "      <td>4</td>\n",
       "      <td>0</td>\n",
       "      <td>1</td>\n",
       "      <td>3</td>\n",
       "      <td>Europe</td>\n",
       "      <td>Europe</td>\n",
       "    </tr>\n",
       "    <tr>\n",
       "      <th>15039</th>\n",
       "      <td>Tajikistan</td>\n",
       "      <td>38.8610</td>\n",
       "      <td>71.2761</td>\n",
       "      <td>2020-07-27</td>\n",
       "      <td>7235</td>\n",
       "      <td>60</td>\n",
       "      <td>6028</td>\n",
       "      <td>1147</td>\n",
       "      <td>Europe</td>\n",
       "      <td>Asia</td>\n",
       "    </tr>\n",
       "  </tbody>\n",
       "</table>\n",
       "<p>15040 rows × 10 columns</p>\n",
       "</div>"
      ],
      "text/plain": [
       "       Country/Region      Lat     Long        Date  Confirmed  Deaths  \\\n",
       "0             Albania  41.1533  20.1683  2020-01-22          0       0   \n",
       "1             Andorra  42.5063   1.5218  2020-01-22          0       0   \n",
       "2             Armenia  40.0691  45.0382  2020-01-22          0       0   \n",
       "3             Austria  47.5162  14.5501  2020-01-22          0       0   \n",
       "4          Azerbaijan  40.1431  47.5769  2020-01-22          0       0   \n",
       "...               ...      ...      ...         ...        ...     ...   \n",
       "15035  United Kingdom  18.4207 -64.6400  2020-07-27          8       1   \n",
       "15036  United Kingdom  21.6940 -71.7979  2020-07-27         99       2   \n",
       "15037  United Kingdom -51.7963 -59.5236  2020-07-27         13       0   \n",
       "15038          France  46.8852 -56.3159  2020-07-27          4       0   \n",
       "15039      Tajikistan  38.8610  71.2761  2020-07-27       7235      60   \n",
       "\n",
       "       Recovered  Active WHO Region Continent  \n",
       "0              0       0     Europe    Europe  \n",
       "1              0       0     Europe    Europe  \n",
       "2              0       0     Europe      Asia  \n",
       "3              0       0     Europe    Europe  \n",
       "4              0       0     Europe      Asia  \n",
       "...          ...     ...        ...       ...  \n",
       "15035          7       0     Europe   Unknown  \n",
       "15036         36      61     Europe   Unknown  \n",
       "15037         13       0     Europe   Unknown  \n",
       "15038          1       3     Europe    Europe  \n",
       "15039       6028    1147     Europe      Asia  \n",
       "\n",
       "[15040 rows x 10 columns]"
      ]
     },
     "execution_count": 16,
     "metadata": {},
     "output_type": "execute_result"
    }
   ],
   "source": [
    "# Separating the columns to be analyzed for time series and resetting index\n",
    "covid_ts = cov_df[cov_df['WHO Region'] == 'Europe'].reset_index()\n",
    "covid_ts.drop('index', axis=1, inplace=True)\n",
    "covid_ts"
   ]
  },
  {
   "cell_type": "markdown",
   "id": "dfa83eee",
   "metadata": {},
   "source": [
    "In this data frame we are analyzing just the Europe WHO Region and we have 15040 rows and 10 columns. "
   ]
  },
  {
   "cell_type": "code",
   "execution_count": 17,
   "id": "0e71b796",
   "metadata": {},
   "outputs": [
    {
     "data": {
      "image/png": "[encoded data removed]",
      "text/plain": [
       "<Figure size 1200x600 with 1 Axes>"
      ]
     },
     "metadata": {},
     "output_type": "display_data"
    }
   ],
   "source": [
    "# Visualization of Covid-19 Cases Over Time in Europe\n",
    "covid_EU = covid_ts.groupby('Date')['Confirmed','Deaths', 'Recovered', 'Active'].sum().reset_index()\n",
    "covid_EU['Date'] = pd.to_datetime(covid_EU['Date'])\n",
    "\n",
    "plt.figure(figsize=(12, 6))\n",
    "plt.scatter(covid_EU['Date'], covid_EU['Confirmed'], label='Confirmed', color='red', marker='o', s=30)\n",
    "plt.scatter(covid_EU['Date'], covid_EU['Deaths'], label='Deaths', color='green', marker='s', s=30)\n",
    "plt.scatter(covid_EU['Date'], covid_EU['Recovered'], label='Recovered', color='blue', marker='^', s=30)\n",
    "plt.scatter(covid_EU['Date'], covid_EU['Active'], label='Active', color='yellow', marker='^', s=30)\n",
    "plt.title('COVID-19 Cases Over Time in Europe (WHO Region)')\n",
    "plt.xlabel('Date')\n",
    "plt.ylabel('Number of Cases')\n",
    "plt.legend()\n",
    "plt.grid(True)\n",
    "plt.show()"
   ]
  },
  {
   "cell_type": "markdown",
   "id": "78093a60",
   "metadata": {},
   "source": [
    "In this plot we can see a positive tendency line in the confirmed cases, but also we can see how was the distribution of the Covid cases Over time in Europe according to our data time provided. We can see also that until march the cases were still around 0."
   ]
  },
  {
   "cell_type": "code",
   "execution_count": 18,
   "id": "d4b4dc3b",
   "metadata": {},
   "outputs": [],
   "source": [
    "# Loading libraries for time series plots, ACF and PACF\n",
    "def plotds(xt, nlag = 60, fig_size = (12, 10)):\n",
    "    if not isinstance(xt, pd.Series):\n",
    "         xt = pd.Series(xt)\n",
    "    plt.figure(figsize=fig_size)\n",
    "    layout = (2, 2)\n",
    "    \n",
    "    ax_xt = plt.subplot2grid(layout, (0, 0), colspan = 2)\n",
    "    ax_acf= plt.subplot2grid(layout, (1, 0))\n",
    "    ax_pacf = plt.subplot2grid(layout, (1, 1))\n",
    "    \n",
    "    xt.plot(ax = ax_xt)\n",
    "    \n",
    "    ax_xt.set_title('Time Series')\n",
    "    plot_acf(xt, lags = 50, ax = ax_acf)\n",
    "    plot_pacf(xt, lags = 50, ax = ax_pacf)\n",
    "    plt.tight_layout()\n",
    "    return None"
   ]
  },
  {
   "cell_type": "markdown",
   "id": "15600508",
   "metadata": {},
   "source": [
    "The previous function generate plots of time series including ACF and PACF. Now, let's analyze the time series model with ARIMA since our data is reduced per months and we can see a clear increasing tendency line, it is better apply ARIMA instead of SARIMAX since our data is reduced in months and as we are analyzing Europe in general, we will need to aggregate all the confirmed cases in Europe according to the dates."
   ]
  },
  {
   "cell_type": "code",
   "execution_count": 19,
   "id": "49ba0ec5",
   "metadata": {},
   "outputs": [],
   "source": [
    "# Grouping according to the date, the confirmed cases of Covid in Europe\n",
    "covid_ts = covid_ts.groupby('Date')['Confirmed'].sum().reset_index()"
   ]
  },
  {
   "cell_type": "markdown",
   "id": "5b00a7e8",
   "metadata": {},
   "source": [
    "For applying ARIMA, first we need to add the date as an index in our dataframe"
   ]
  },
  {
   "cell_type": "code",
   "execution_count": 20,
   "id": "01bf8cc6",
   "metadata": {},
   "outputs": [
    {
     "data": {
      "text/html": [
       "<div>\n",
       "<style scoped>\n",
       "    .dataframe tbody tr th:only-of-type {\n",
       "        vertical-align: middle;\n",
       "    }\n",
       "\n",
       "    .dataframe tbody tr th {\n",
       "        vertical-align: top;\n",
       "    }\n",
       "\n",
       "    .dataframe thead th {\n",
       "        text-align: right;\n",
       "    }\n",
       "</style>\n",
       "<table border=\"1\" class=\"dataframe\">\n",
       "  <thead>\n",
       "    <tr style=\"text-align: right;\">\n",
       "      <th></th>\n",
       "      <th>Confirmed</th>\n",
       "    </tr>\n",
       "    <tr>\n",
       "      <th>Date</th>\n",
       "      <th></th>\n",
       "    </tr>\n",
       "  </thead>\n",
       "  <tbody>\n",
       "    <tr>\n",
       "      <th>2020-01-22</th>\n",
       "      <td>0</td>\n",
       "    </tr>\n",
       "    <tr>\n",
       "      <th>2020-01-23</th>\n",
       "      <td>0</td>\n",
       "    </tr>\n",
       "    <tr>\n",
       "      <th>2020-01-24</th>\n",
       "      <td>2</td>\n",
       "    </tr>\n",
       "    <tr>\n",
       "      <th>2020-01-25</th>\n",
       "      <td>3</td>\n",
       "    </tr>\n",
       "    <tr>\n",
       "      <th>2020-01-26</th>\n",
       "      <td>3</td>\n",
       "    </tr>\n",
       "  </tbody>\n",
       "</table>\n",
       "</div>"
      ],
      "text/plain": [
       "            Confirmed\n",
       "Date                 \n",
       "2020-01-22          0\n",
       "2020-01-23          0\n",
       "2020-01-24          2\n",
       "2020-01-25          3\n",
       "2020-01-26          3"
      ]
     },
     "execution_count": 20,
     "metadata": {},
     "output_type": "execute_result"
    }
   ],
   "source": [
    "# Introducing the date in the correct format\n",
    "covid_ts['Date'] = pd.to_datetime(covid_ts['Date'], format='%Y-%m-%d')\n",
    "covid_ts.index = covid_ts['Date']\n",
    "covid_ts.drop('Date', axis=1, inplace=True)\n",
    "covid_ts.head()"
   ]
  },
  {
   "cell_type": "code",
   "execution_count": 21,
   "id": "10a325f6",
   "metadata": {},
   "outputs": [
    {
     "data": {
      "image/png": "[encoded data removed]",
      "text/plain": [
       "<Figure size 1200x1000 with 3 Axes>"
      ]
     },
     "metadata": {},
     "output_type": "display_data"
    }
   ],
   "source": [
    "# Display plot of close column and Date index\n",
    "plotds(covid_ts['Confirmed'], nlag = 60)"
   ]
  },
  {
   "cell_type": "markdown",
   "id": "9bf3650c",
   "metadata": {},
   "source": [
    "We did the previous plot to see if our data is shown as stationary, but we can see that our data is not stationary since it has an increasing trend in the first visualization where we see the months vs confirmed Covid cases, we can also see a decreasing autocorrelation and analyzing the partial autocorrelation, we can see around the first 2 lags are around 1 in the y-axes, but then we can see the following lags in negative values close to zero and we can see that there is a relationship present there."
   ]
  },
  {
   "cell_type": "code",
   "execution_count": 22,
   "id": "b35628aa",
   "metadata": {},
   "outputs": [
    {
     "name": "stdout",
     "output_type": "stream",
     "text": [
      "mean1 = 473744.545455, mean2 = 2522665.294872\n",
      "variance1 = 361015356235.002563, variance2 = 190568433538.911896\n"
     ]
    }
   ],
   "source": [
    "# Calculating the mean and variance values of first 110 rows and afterwards\n",
    "mean1, mean2 = covid_ts.iloc[:110].Confirmed.mean(), covid_ts.iloc[110:].Confirmed.mean()\n",
    "var1, var2 = covid_ts.iloc[:110].Confirmed.var(), covid_ts.iloc[110:].Confirmed.var()\n",
    "print('mean1 = %f, mean2 = %f' % (mean1, mean2))\n",
    "print('variance1 = %f, variance2 = %f' % (var1, var2))"
   ]
  },
  {
   "cell_type": "markdown",
   "id": "98ac4930",
   "metadata": {},
   "source": [
    "We can see that the variance is changing between the first 110 rows and afterwards and we can say that the data is not stationary, and to confirm this using a mathemathical method, we will use Dickey Fuller Test"
   ]
  },
  {
   "cell_type": "markdown",
   "id": "36ffef53",
   "metadata": {},
   "source": [
    "For the Dickey Fuller test, I will state the next Hypothesys to compare that is the null hypothesis ($H_0$), and the alternative one ($H_A$):\n",
    "\n",
    "\n",
    "($H_0$): The time series is non-stationary\n",
    "\n",
    "($H_A$): The time series is non-stationary\n",
    "\n",
    "The significance level stablished by default is 0.05"
   ]
  },
  {
   "cell_type": "code",
   "execution_count": 23,
   "id": "5e61d8a0",
   "metadata": {},
   "outputs": [
    {
     "name": "stdout",
     "output_type": "stream",
     "text": [
      "ADF Statistic: -0.190170\n",
      "p-value: 0.939683\n"
     ]
    }
   ],
   "source": [
    "adf_result = adfuller(covid_ts.Confirmed.tolist())\n",
    "print('ADF Statistic: %f' % adf_result[0])\n",
    "print('p-value: %f' % adf_result[1])"
   ]
  },
  {
   "cell_type": "markdown",
   "id": "72870e0e",
   "metadata": {},
   "source": [
    "Applying Dickey Fuller Test, we can see that the p value is more than 0.05; so, we reject the null hypothesis, and we can say that our dataset is non-stationary."
   ]
  },
  {
   "cell_type": "code",
   "execution_count": 24,
   "id": "58394d83",
   "metadata": {},
   "outputs": [
    {
     "data": {
      "image/png": "[encoded data removed]",
      "text/plain": [
       "<Figure size 640x480 with 1 Axes>"
      ]
     },
     "metadata": {},
     "output_type": "display_data"
    }
   ],
   "source": [
    "# Showing the qqplot for 'Confirmed' cases of Covid\n",
    "x = sm.qqplot(covid_ts['Confirmed'], line = 's')"
   ]
  },
  {
   "cell_type": "markdown",
   "id": "ecb0a545",
   "metadata": {},
   "source": [
    "We are looking the quartile distribution in the previous graphic, and it is based in the quartiles of the x-axes in which at the beginning we can see many values that remain constant close to zero and then start increasing.\n",
    "\n",
    "As our data does't show too much seasonality, let's apply ARIMA model in the dataset to compare the values and make it stationary"
   ]
  },
  {
   "cell_type": "markdown",
   "id": "f6a66924",
   "metadata": {},
   "source": [
    "## ARIMA Time Series Model splitting 15% for testing and 85% for training"
   ]
  },
  {
   "cell_type": "code",
   "execution_count": 25,
   "id": "68bca6c5",
   "metadata": {},
   "outputs": [],
   "source": [
    "from statsmodels.tsa.arima.model import ARIMA\n",
    "train_size = int(len(covid_ts) * 0.85)\n",
    "train, test = covid_ts[:train_size], covid_ts[train_size:]\n",
    "model = ARIMA(train['Confirmed'], order = (1, 1, 0))\n",
    "results_AR = model.fit()"
   ]
  },
  {
   "cell_type": "markdown",
   "id": "7e4da2f1",
   "metadata": {},
   "source": [
    "We are gonna analyze the recovered cases adding p,q, and d in which p is 1 which means the autoregression, 1 as q that is the difference and 0 as moving average, and the next function finds how many differences we should apply to make the data stationary for our ARIMA model."
   ]
  },
  {
   "cell_type": "code",
   "execution_count": 26,
   "id": "b8543518",
   "metadata": {},
   "outputs": [
    {
     "name": "stdout",
     "output_type": "stream",
     "text": [
      "Number of differences to make the series stationary: 31\n"
     ]
    }
   ],
   "source": [
    "#Applying function to find the number of differences to apply to make the data stationary\n",
    "analysis = train['Confirmed']\n",
    "def adf_test(analysis):\n",
    "    result = adfuller(analysis, autolag='AIC')\n",
    "    p_value = result[1]\n",
    "    return p_value\n",
    "d = 0\n",
    "significance_level = 0.05\n",
    "while True:\n",
    "    p_value = adf_test(analysis.diff(d).dropna())\n",
    "    if p_value < significance_level:\n",
    "        break\n",
    "    d += 1\n",
    "print(f\"Number of differences to make the series stationary: {d}\")"
   ]
  },
  {
   "cell_type": "code",
   "execution_count": 27,
   "id": "6a18c683",
   "metadata": {},
   "outputs": [
    {
     "data": {
      "text/plain": [
       "Date\n",
       "2020-02-22    121.0\n",
       "2020-02-23    219.0\n",
       "2020-02-24    293.0\n",
       "2020-02-25    400.0\n",
       "2020-02-26    565.0\n",
       "Name: Confirmed, dtype: float64"
      ]
     },
     "execution_count": 27,
     "metadata": {},
     "output_type": "execute_result"
    }
   ],
   "source": [
    "# Applying the order of differences to make the data stationary\n",
    "order_diff = train['Confirmed'].diff(31)\n",
    "order_diff = train['Confirmed'].diff(31).dropna()\n",
    "order_diff.head()"
   ]
  },
  {
   "cell_type": "code",
   "execution_count": 28,
   "id": "fa59388c",
   "metadata": {},
   "outputs": [
    {
     "data": {
      "text/plain": [
       "Text(0.5, 1.0, 'Order differences of DJIA during Feb 2020-June 2020')"
      ]
     },
     "execution_count": 28,
     "metadata": {},
     "output_type": "execute_result"
    },
    {
     "data": {
      "image/png": "[encoded data removed]",
      "text/plain": [
       "<Figure size 550x550 with 2 Axes>"
      ]
     },
     "metadata": {},
     "output_type": "display_data"
    }
   ],
   "source": [
    "# Visualizing the previous data non stationary with the new one\n",
    "fig, ax = plt.subplots(2, sharex = True)\n",
    "fig.set_size_inches(5.5, 5.5)\n",
    "train['Confirmed'].plot(ax = ax[0], color = 'b')\n",
    "ax[0].set_title('Close values of DJIA during Feb 2020- June 2020')\n",
    "order_diff.plot(ax = ax[1], color = 'r')\n",
    "ax[1].set_title('Order differences of DJIA during Feb 2020-June 2020')"
   ]
  },
  {
   "cell_type": "markdown",
   "id": "6f82df57",
   "metadata": {},
   "source": [
    "As our data had a continuous increasing tendency we could only see if the data is stationary applying Dickey Fuller test again in which the nlags stablished are 60 since we are working in monthly data."
   ]
  },
  {
   "cell_type": "markdown",
   "id": "5d8b98bf",
   "metadata": {},
   "source": [
    "For the Dickey Fuller test, I will state the next Hypothesys to compare that is the null hypothesis ($H_0$), and the alternative one ($H_A$):\n",
    "\n",
    "\n",
    "($H_0$): The time series is non-stationary\n",
    "\n",
    "($H_A$): The time series is non-stationary\n",
    "\n",
    "The significance level stablished by default is 0.05"
   ]
  },
  {
   "cell_type": "code",
   "execution_count": 29,
   "id": "b95829be",
   "metadata": {},
   "outputs": [
    {
     "name": "stdout",
     "output_type": "stream",
     "text": [
      "ADF Statistic: -2.867485\n",
      "p-value: 0.049262\n"
     ]
    },
    {
     "data": {
      "image/png": "[encoded data removed]",
      "text/plain": [
       "<Figure size 1200x1000 with 3 Axes>"
      ]
     },
     "metadata": {},
     "output_type": "display_data"
    }
   ],
   "source": [
    "plotds(order_diff, nlag = 60)\n",
    "adf_result = adfuller(order_diff)\n",
    "print('ADF Statistic: %f' % adf_result[0])\n",
    "print('p-value: %f' % adf_result[1])"
   ]
  },
  {
   "cell_type": "markdown",
   "id": "af51885f",
   "metadata": {},
   "source": [
    "Now applying the Dickey Fuller Test, we can see that our data is considered stationary "
   ]
  },
  {
   "cell_type": "markdown",
   "id": "0873c630",
   "metadata": {},
   "source": [
    "Now we are going to find which is the best combination for p, d, q, and we are going to train the values with different combinations"
   ]
  },
  {
   "cell_type": "code",
   "execution_count": 30,
   "id": "ec88cb49",
   "metadata": {},
   "outputs": [
    {
     "name": "stdout",
     "output_type": "stream",
     "text": [
      "[[0, 1, 0, 3605.273975006168], [0, 1, 1, 3440.0663127686066], [0, 1, 2, 3325.8846817659305], [1, 1, 0, 3087.2326557369656], [1, 1, 1, 3050.6552669597004], [1, 1, 2, 3052.4544952245906], [2, 1, 0, 3060.6674797927717], [2, 1, 1, 3052.3512218895094], [2, 1, 2, 3054.3978043810303], [0, 2, 0, 103313.3296774092], [0, 2, 1, 3030.0096767136274], [0, 2, 2, 3031.853873017359], [1, 2, 0, 3040.47078218187], [1, 2, 1, 3031.6318529756873], [1, 2, 2, 3033.8673886455144], [2, 2, 0, 3034.376366087702], [2, 2, 1, 3032.473243358303], [2, 2, 2, 3004.802459407722]]\n"
     ]
    }
   ],
   "source": [
    "# Funtion for applying nested loop to define AIC values\n",
    "aicVal=[]\n",
    "for d in range(1,3):\n",
    "    for ari in range(0, 3):\n",
    "        for maj in range(0,3):\n",
    "            try:\n",
    "                arima_obj = ARIMA(train['Confirmed'].tolist(), order=(ari,d,maj))\n",
    "                arima_obj_fit=arima_obj.fit()\n",
    "                aicVal.append([ari, d, maj, arima_obj_fit.aic])\n",
    "            except ValueError:\n",
    "                pass\n",
    "print(aicVal)"
   ]
  },
  {
   "cell_type": "markdown",
   "id": "d9907ed9",
   "metadata": {},
   "source": [
    "The best combination is (2,2,2) because it has the small value according to the AIC values, and now let's train the model with the optimal values."
   ]
  },
  {
   "cell_type": "code",
   "execution_count": 31,
   "id": "04a29056",
   "metadata": {},
   "outputs": [
    {
     "data": {
      "text/html": [
       "<table class=\"simpletable\">\n",
       "<caption>SARIMAX Results</caption>\n",
       "<tr>\n",
       "  <th>Dep. Variable:</th>           <td>y</td>        <th>  No. Observations:  </th>    <td>159</td>   \n",
       "</tr>\n",
       "<tr>\n",
       "  <th>Model:</th>            <td>ARIMA(2, 2, 2)</td>  <th>  Log Likelihood     </th> <td>-1497.401</td>\n",
       "</tr>\n",
       "<tr>\n",
       "  <th>Date:</th>            <td>Sat, 28 Oct 2023</td> <th>  AIC                </th> <td>3004.802</td> \n",
       "</tr>\n",
       "<tr>\n",
       "  <th>Time:</th>                <td>20:12:49</td>     <th>  BIC                </th> <td>3020.084</td> \n",
       "</tr>\n",
       "<tr>\n",
       "  <th>Sample:</th>                  <td>0</td>        <th>  HQIC               </th> <td>3011.009</td> \n",
       "</tr>\n",
       "<tr>\n",
       "  <th></th>                      <td> - 159</td>      <th>                     </th>     <td> </td>    \n",
       "</tr>\n",
       "<tr>\n",
       "  <th>Covariance Type:</th>        <td>opg</td>       <th>                     </th>     <td> </td>    \n",
       "</tr>\n",
       "</table>\n",
       "<table class=\"simpletable\">\n",
       "<tr>\n",
       "     <td></td>       <th>coef</th>     <th>std err</th>      <th>z</th>      <th>P>|z|</th>  <th>[0.025</th>    <th>0.975]</th>  \n",
       "</tr>\n",
       "<tr>\n",
       "  <th>ar.L1</th>  <td>    0.9639</td> <td>    0.038</td> <td>   25.500</td> <td> 0.000</td> <td>    0.890</td> <td>    1.038</td>\n",
       "</tr>\n",
       "<tr>\n",
       "  <th>ar.L2</th>  <td>   -0.3736</td> <td>    0.041</td> <td>   -9.061</td> <td> 0.000</td> <td>   -0.454</td> <td>   -0.293</td>\n",
       "</tr>\n",
       "<tr>\n",
       "  <th>ma.L1</th>  <td>   -1.6899</td> <td>    0.042</td> <td>  -40.074</td> <td> 0.000</td> <td>   -1.773</td> <td>   -1.607</td>\n",
       "</tr>\n",
       "<tr>\n",
       "  <th>ma.L2</th>  <td>    1.0000</td> <td>    0.053</td> <td>   18.856</td> <td> 0.000</td> <td>    0.896</td> <td>    1.104</td>\n",
       "</tr>\n",
       "<tr>\n",
       "  <th>sigma2</th> <td> 1.078e+07</td> <td> 8.07e-09</td> <td> 1.34e+15</td> <td> 0.000</td> <td> 1.08e+07</td> <td> 1.08e+07</td>\n",
       "</tr>\n",
       "</table>\n",
       "<table class=\"simpletable\">\n",
       "<tr>\n",
       "  <th>Ljung-Box (L1) (Q):</th>     <td>0.13</td> <th>  Jarque-Bera (JB):  </th> <td>672.20</td>\n",
       "</tr>\n",
       "<tr>\n",
       "  <th>Prob(Q):</th>                <td>0.72</td> <th>  Prob(JB):          </th>  <td>0.00</td> \n",
       "</tr>\n",
       "<tr>\n",
       "  <th>Heteroskedasticity (H):</th> <td>2.37</td> <th>  Skew:              </th>  <td>0.51</td> \n",
       "</tr>\n",
       "<tr>\n",
       "  <th>Prob(H) (two-sided):</th>    <td>0.00</td> <th>  Kurtosis:          </th>  <td>13.09</td>\n",
       "</tr>\n",
       "</table><br/><br/>Warnings:<br/>[1] Covariance matrix calculated using the outer product of gradients (complex-step).<br/>[2] Covariance matrix is singular or near-singular, with condition number 7.01e+29. Standard errors may be unstable."
      ],
      "text/plain": [
       "<class 'statsmodels.iolib.summary.Summary'>\n",
       "\"\"\"\n",
       "                               SARIMAX Results                                \n",
       "==============================================================================\n",
       "Dep. Variable:                      y   No. Observations:                  159\n",
       "Model:                 ARIMA(2, 2, 2)   Log Likelihood               -1497.401\n",
       "Date:                Sat, 28 Oct 2023   AIC                           3004.802\n",
       "Time:                        20:12:49   BIC                           3020.084\n",
       "Sample:                             0   HQIC                          3011.009\n",
       "                                - 159                                         \n",
       "Covariance Type:                  opg                                         \n",
       "==============================================================================\n",
       "                 coef    std err          z      P>|z|      [0.025      0.975]\n",
       "------------------------------------------------------------------------------\n",
       "ar.L1          0.9639      0.038     25.500      0.000       0.890       1.038\n",
       "ar.L2         -0.3736      0.041     -9.061      0.000      -0.454      -0.293\n",
       "ma.L1         -1.6899      0.042    -40.074      0.000      -1.773      -1.607\n",
       "ma.L2          1.0000      0.053     18.856      0.000       0.896       1.104\n",
       "sigma2      1.078e+07   8.07e-09   1.34e+15      0.000    1.08e+07    1.08e+07\n",
       "===================================================================================\n",
       "Ljung-Box (L1) (Q):                   0.13   Jarque-Bera (JB):               672.20\n",
       "Prob(Q):                              0.72   Prob(JB):                         0.00\n",
       "Heteroskedasticity (H):               2.37   Skew:                             0.51\n",
       "Prob(H) (two-sided):                  0.00   Kurtosis:                        13.09\n",
       "===================================================================================\n",
       "\n",
       "Warnings:\n",
       "[1] Covariance matrix calculated using the outer product of gradients (complex-step).\n",
       "[2] Covariance matrix is singular or near-singular, with condition number 7.01e+29. Standard errors may be unstable.\n",
       "\"\"\""
      ]
     },
     "execution_count": 31,
     "metadata": {},
     "output_type": "execute_result"
    }
   ],
   "source": [
    "# Applying the optimal p, d and q in the ARIMA model\n",
    "arima_obj = ARIMA(train['Confirmed'].tolist(), order = (2, 2, 2))\n",
    "arima_obj_fit = arima_obj.fit()\n",
    "arima_obj_fit.summary()"
   ]
  },
  {
   "cell_type": "markdown",
   "id": "6bde14b8",
   "metadata": {},
   "source": [
    "AIC tells us how accurate we are in our model with this pdq combination, and BIC give us information criterium about the dataset, and in the next code we will train again our ARIMA model."
   ]
  },
  {
   "cell_type": "code",
   "execution_count": 32,
   "id": "10269500",
   "metadata": {},
   "outputs": [
    {
     "data": {
      "text/html": [
       "<div>\n",
       "<style scoped>\n",
       "    .dataframe tbody tr th:only-of-type {\n",
       "        vertical-align: middle;\n",
       "    }\n",
       "\n",
       "    .dataframe tbody tr th {\n",
       "        vertical-align: top;\n",
       "    }\n",
       "\n",
       "    .dataframe thead th {\n",
       "        text-align: right;\n",
       "    }\n",
       "</style>\n",
       "<table border=\"1\" class=\"dataframe\">\n",
       "  <thead>\n",
       "    <tr style=\"text-align: right;\">\n",
       "      <th></th>\n",
       "      <th>Confirmed</th>\n",
       "      <th>ARIMA</th>\n",
       "      <th>diffval</th>\n",
       "    </tr>\n",
       "    <tr>\n",
       "      <th>Date</th>\n",
       "      <th></th>\n",
       "      <th></th>\n",
       "      <th></th>\n",
       "    </tr>\n",
       "  </thead>\n",
       "  <tbody>\n",
       "    <tr>\n",
       "      <th>2020-01-22</th>\n",
       "      <td>0</td>\n",
       "      <td>0.000000</td>\n",
       "      <td>0.0</td>\n",
       "    </tr>\n",
       "    <tr>\n",
       "      <th>2020-01-23</th>\n",
       "      <td>0</td>\n",
       "      <td>0.000000</td>\n",
       "      <td>0.0</td>\n",
       "    </tr>\n",
       "    <tr>\n",
       "      <th>2020-01-24</th>\n",
       "      <td>2</td>\n",
       "      <td>0.000000</td>\n",
       "      <td>2.0</td>\n",
       "    </tr>\n",
       "    <tr>\n",
       "      <th>2020-01-25</th>\n",
       "      <td>3</td>\n",
       "      <td>2.949791</td>\n",
       "      <td>3.0</td>\n",
       "    </tr>\n",
       "    <tr>\n",
       "      <th>2020-01-26</th>\n",
       "      <td>3</td>\n",
       "      <td>3.743160</td>\n",
       "      <td>3.0</td>\n",
       "    </tr>\n",
       "  </tbody>\n",
       "</table>\n",
       "</div>"
      ],
      "text/plain": [
       "            Confirmed     ARIMA  diffval\n",
       "Date                                    \n",
       "2020-01-22          0  0.000000      0.0\n",
       "2020-01-23          0  0.000000      0.0\n",
       "2020-01-24          2  0.000000      2.0\n",
       "2020-01-25          3  2.949791      3.0\n",
       "2020-01-26          3  3.743160      3.0"
      ]
     },
     "execution_count": 32,
     "metadata": {},
     "output_type": "execute_result"
    }
   ],
   "source": [
    "# Showing in a dataframe the Confirmed cases, ARIMA and diffval \n",
    "pred = arima_obj_fit.fittedvalues\n",
    "train['ARIMA'] = pred\n",
    "diffval = arima_obj_fit.resid + arima_obj_fit.fittedvalues\n",
    "train['diffval'] = diffval\n",
    "train.head()"
   ]
  },
  {
   "cell_type": "code",
   "execution_count": 33,
   "id": "781b4033",
   "metadata": {},
   "outputs": [
    {
     "data": {
      "image/png": "[encoded data removed]",
      "text/plain": [
       "<Figure size 640x480 with 1 Axes>"
      ]
     },
     "metadata": {},
     "output_type": "display_data"
    }
   ],
   "source": [
    "# Showing the new qqplot\n",
    "x = sm.qqplot(arima_obj_fit.resid, line = 's')"
   ]
  },
  {
   "cell_type": "markdown",
   "id": "d107802c",
   "metadata": {},
   "source": [
    "We can see that now our data fits better into our ARIMAmodel with the new parameters stablished"
   ]
  },
  {
   "cell_type": "code",
   "execution_count": 34,
   "id": "7c250af6",
   "metadata": {},
   "outputs": [
    {
     "name": "stdout",
     "output_type": "stream",
     "text": [
      "Date\n",
      "2020-01-22          0.0\n",
      "2020-01-23          0.0\n",
      "2020-01-24          2.0\n",
      "2020-01-25          3.0\n",
      "2020-01-26          3.0\n",
      "                ...    \n",
      "2020-06-24    2610439.0\n",
      "2020-06-25    2629250.0\n",
      "2020-06-26    2649366.0\n",
      "2020-06-27    2665549.0\n",
      "2020-06-28    2681253.0\n",
      "Name: diffval, Length: 159, dtype: float64 Date\n",
      "2020-01-22    0.000000e+00\n",
      "2020-01-23    0.000000e+00\n",
      "2020-01-24    0.000000e+00\n",
      "2020-01-25    2.949791e+00\n",
      "2020-01-26    3.743160e+00\n",
      "                  ...     \n",
      "2020-06-24    2.610327e+06\n",
      "2020-06-25    2.629024e+06\n",
      "2020-06-26    2.647495e+06\n",
      "2020-06-27    2.667947e+06\n",
      "2020-06-28    2.683329e+06\n",
      "Name: ARIMA, Length: 159, dtype: float64\n"
     ]
    }
   ],
   "source": [
    "print(train['diffval'], train['ARIMA'])"
   ]
  },
  {
   "cell_type": "code",
   "execution_count": 35,
   "id": "147234a6",
   "metadata": {},
   "outputs": [
    {
     "data": {
      "text/plain": [
       "Text(0, 0.5, 'Closing')"
      ]
     },
     "execution_count": 35,
     "metadata": {},
     "output_type": "execute_result"
    },
    {
     "data": {
      "image/png": "[encoded data removed]",
      "text/plain": [
       "<Figure size 550x550 with 1 Axes>"
      ]
     },
     "metadata": {},
     "output_type": "display_data"
    }
   ],
   "source": [
    "# Showint the ARIMA model with the new p, d, q values\n",
    "f, axarr = plt.subplots(1, sharex = True)\n",
    "f.set_size_inches(5.5, 5.5)\n",
    "train['diffval'].iloc[2:].plot(color = 'b', linestyle = '-', ax = axarr)\n",
    "train['ARIMA'].iloc[2:].plot(color = 'r', linestyle = '--', ax = axarr)\n",
    "axarr.set_title('ARIMA(2, 2, 2)')\n",
    "plt.xlabel('Index')\n",
    "plt.ylabel('Closing')"
   ]
  },
  {
   "cell_type": "markdown",
   "id": "3c0dd6e7",
   "metadata": {},
   "source": [
    "We can see now how our ARIMA model is working in the dataset, if we split between confidence intervals, we can see the next results"
   ]
  },
  {
   "cell_type": "code",
   "execution_count": 36,
   "id": "bf562188",
   "metadata": {},
   "outputs": [
    {
     "name": "stdout",
     "output_type": "stream",
     "text": [
      "Test R-squared: 0.803516332469697\n",
      "Mean Absolute Error (MAE): 67052.63261174184\n"
     ]
    }
   ],
   "source": [
    "# Calculating the r-squared error for the testing set\n",
    "test_predictions = arima_obj_fit.predict(start=len(train), end=len(train) + len(test) - 1, typ='levels')\n",
    "from sklearn.metrics import r2_score, mean_absolute_error\n",
    "test_r2 = r2_score(test['Confirmed'], test_predictions)\n",
    "print(\"Test R-squared:\", test_r2)\n",
    "test_MAE = mean_absolute_error(test['Confirmed'], test_predictions)\n",
    "print(\"Mean Absolute Error (MAE):\", test_MAE)"
   ]
  },
  {
   "cell_type": "markdown",
   "id": "30e0df4d",
   "metadata": {},
   "source": [
    "We can see that appying the R-squared test in our tested data, we get 80.34%, and a Mean Squared Error of 67070 which are good values and we can say that we have a good model. However, this model was reduced due to the dates in our data that were the same dates for Europe, and that is why we are going to perform other Machine Learning Models for the prediction."
   ]
  },
  {
   "cell_type": "code",
   "execution_count": null,
   "id": "a94e8f47",
   "metadata": {},
   "outputs": [],
   "source": []
  }
 ],
 "metadata": {
  "kernelspec": {
   "display_name": "Python 3 (ipykernel)",
   "language": "python",
   "name": "python3"
  },
  "language_info": {
   "codemirror_mode": {
    "name": "ipython",
    "version": 3
   },
   "file_extension": ".py",
   "mimetype": "text/x-python",
   "name": "python",
   "nbconvert_exporter": "python",
   "pygments_lexer": "ipython3",
   "version": "3.9.13"
  }
 },
 "nbformat": 4,
 "nbformat_minor": 5
}
