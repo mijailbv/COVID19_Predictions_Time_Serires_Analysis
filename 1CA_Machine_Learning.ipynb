{
 "cells": [
  {
   "cell_type": "markdown",
   "id": "7a828973",
   "metadata": {},
   "source": [
    "## 1CA Machine Learning"
   ]
  },
  {
   "cell_type": "markdown",
   "id": "618bbe19",
   "metadata": {},
   "source": [
    "### Student Name: Emily Cristina Herbas Luizaga\n",
    "### Student ID: 2023100"
   ]
  },
  {
   "cell_type": "code",
   "execution_count": null,
   "id": "08807b7f",
   "metadata": {},
   "outputs": [],
   "source": []
  }
 ],
 "metadata": {
  "kernelspec": {
   "display_name": "Python 3 (ipykernel)",
   "language": "python",
   "name": "python3"
  },
  "language_info": {
   "codemirror_mode": {
    "name": "ipython",
    "version": 3
   },
   "file_extension": ".py",
   "mimetype": "text/x-python",
   "name": "python",
   "nbconvert_exporter": "python",
   "pygments_lexer": "ipython3",
   "version": "3.9.13"
  }
 },
 "nbformat": 4,
 "nbformat_minor": 5
}
